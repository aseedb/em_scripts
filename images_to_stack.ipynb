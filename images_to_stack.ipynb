{
 "cells": [
  {
   "cell_type": "code",
   "execution_count": 1,
   "metadata": {},
   "outputs": [],
   "source": [
    "pattern = \"*_DW.mrc\"\n",
    "output_path = \"Position_9.st\""
   ]
  },
  {
   "cell_type": "code",
   "execution_count": 2,
   "metadata": {},
   "outputs": [],
   "source": [
    "import glob\n",
    "import numpy as np\n",
    "import mrcfile\n",
    "from pathlib import Path\n",
    "import os"
   ]
  },
  {
   "cell_type": "code",
   "execution_count": 3,
   "metadata": {},
   "outputs": [],
   "source": [
    "def get_image_paths(pattern = \"*_DW.mrc\"):\n",
    "    paths = []\n",
    "    for p in glob.glob(pattern):\n",
    "        paths.append(Path(p))\n",
    "    return paths\n",
    "\n",
    "def get_angles_from_paths(paths):\n",
    "    angles = []\n",
    "    for p in paths:\n",
    "        split0 = str(p).split(\"[\")\n",
    "        angle = float(split0[1].split(\"]\")[0])\n",
    "        angles.append(angle)\n",
    "    return angles\n",
    "\n",
    "def make_angle_path_dict(angles, paths):\n",
    "    ang_path_dict = dict(zip(angles, paths))\n",
    "    sorted_dict = dict(sorted(ang_path_dict.items()))\n",
    "    return sorted_dict\n",
    "def read_mrc(path):\n",
    "    with mrcfile.open(path, permissive=True) as mrc:\n",
    "        data = mrc.data\n",
    "        voxel_size = mrc.voxel_size\n",
    "    return data, voxel_size\n",
    "def make_stack_from_ang_path_dict(ang_path_dict):\n",
    "    stack = []\n",
    "    for ang, path in ang_path_dict.items():\n",
    "        data, voxel_size = read_mrc(path)\n",
    "        stack.append(data)\n",
    "    return np.array(stack), voxel_size\n",
    "def save_stack(file_path, stack, voxel_size, angles=None):\n",
    "    stack_out_path = Path(file_path)\n",
    "    with mrcfile.new(stack_out_path, overwrite = True) as mrc:\n",
    "        mrc.set_data(stack)\n",
    "        mrc.set_image_stack()\n",
    "        mrc.voxel_size = voxel_size\n",
    "    if angles:\n",
    "        ang_out_path = stack_out_path.parent / (stack_out_path.stem + '.ang')\n",
    "        with open(ang_out_path, 'w') as f:\n",
    "            for ang in angles:\n",
    "                print(ang, file=f)"
   ]
  },
  {
   "cell_type": "code",
   "execution_count": 4,
   "metadata": {},
   "outputs": [
    {
     "name": "stderr",
     "output_type": "stream",
     "text": [
      "C:\\Users\\ib19e403\\AppData\\Local\\Continuum\\anaconda3\\envs\\image\\lib\\site-packages\\mrcfile\\mrcinterpreter.py:208: RuntimeWarning: Map ID string not found - not an MRC file, or file is corrupt\n",
      "  warnings.warn(msg, RuntimeWarning)\n"
     ]
    }
   ],
   "source": [
    "paths = get_image_paths()\n",
    "angles = get_angles_from_paths(paths)\n",
    "ang_path_dict = make_angle_path_dict(angles, paths)\n",
    "stack, voxel_size = make_stack_from_ang_path_dict(ang_path_dict)"
   ]
  },
  {
   "cell_type": "code",
   "execution_count": null,
   "metadata": {},
   "outputs": [],
   "source": [
    "save_stack(output_path, stack, voxel_size, angles=angles)\n"
   ]
  },
  {
   "cell_type": "code",
   "execution_count": null,
   "metadata": {},
   "outputs": [],
   "source": [
    "os.system(f\"3dmod {output_path}\")"
   ]
  },
  {
   "cell_type": "code",
   "execution_count": null,
   "metadata": {},
   "outputs": [],
   "source": []
  }
 ],
 "metadata": {
  "kernelspec": {
   "display_name": "Python 3",
   "language": "python",
   "name": "python3"
  },
  "language_info": {
   "codemirror_mode": {
    "name": "ipython",
    "version": 3
   },
   "file_extension": ".py",
   "mimetype": "text/x-python",
   "name": "python",
   "nbconvert_exporter": "python",
   "pygments_lexer": "ipython3",
   "version": "3.7.9"
  }
 },
 "nbformat": 4,
 "nbformat_minor": 4
}
